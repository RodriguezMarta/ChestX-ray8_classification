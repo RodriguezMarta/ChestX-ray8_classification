{
 "cells": [
  {
   "attachments": {},
   "cell_type": "markdown",
   "metadata": {},
   "source": [
    "# Preprocesamiento\n",
    "\n",
    "Después del EDA, se aplicará un preprocesamiento. El objetivo principal es mitigar el desvalance entre las clases."
   ]
  },
  {
   "cell_type": "code",
   "execution_count": 3,
   "metadata": {},
   "outputs": [
    {
     "name": "stdout",
     "output_type": "stream",
     "text": [
      "Applying a ratio of undersample of: 0.3\n",
      "Negatives before undersampling 42329\n",
      "Negatives before undersampling 15661\n",
      "Negatives before undersampling 6044\n",
      "Negatives before undersampling 2103\n",
      "Negatives before undersampling 11988\n",
      "Negatives before undersampling 4416\n"
     ]
    }
   ],
   "source": [
    "!python ../src/preprocess.py"
   ]
  },
  {
   "cell_type": "markdown",
   "metadata": {},
   "source": []
  },
  {
   "cell_type": "code",
   "execution_count": 1,
   "metadata": {},
   "outputs": [
    {
     "name": "stderr",
     "output_type": "stream",
     "text": [
      "usage: ipykernel_launcher.py [-h] [--ratio RATIO]\n",
      "ipykernel_launcher.py: error: unrecognized arguments: --ip=127.0.0.1 --stdin=9013 --control=9011 --hb=9010 --Session.signature_scheme=\"hmac-sha256\" --Session.key=b\"22d3b603-d17c-4663-b421-31053a65128e\" --shell=9012 --transport=\"tcp\" --iopub=9014 --f=c:\\Users\\MEDHYCON\\AppData\\Roaming\\jupyter\\runtime\\kernel-v2-28000XO1d41zb65bh.json\n"
     ]
    },
    {
     "ename": "SystemExit",
     "evalue": "2",
     "output_type": "error",
     "traceback": [
      "An exception has occurred, use %tb to see the full traceback.\n",
      "\u001b[1;31mSystemExit\u001b[0m\u001b[1;31m:\u001b[0m 2\n"
     ]
    },
    {
     "name": "stderr",
     "output_type": "stream",
     "text": [
      "c:\\Users\\MEDHYCON\\anaconda3\\envs\\tfm_env\\lib\\site-packages\\IPython\\core\\interactiveshell.py:3516: UserWarning: To exit: use 'exit', 'quit', or Ctrl-D.\n",
      "  warn(\"To exit: use 'exit', 'quit', or Ctrl-D.\", stacklevel=1)\n"
     ]
    }
   ],
   "source": [
    "import pandas as pd\n",
    "from sklearn.model_selection import GroupShuffleSplit\n",
    "from sklearn.utils import resample\n",
    "import matplotlib.pyplot as plt\n",
    "import seaborn as sns\n",
    "import argparse\n",
    "import os\n",
    "\n",
    "def undersample_negatives(df, labels, ratio=0.3):\n",
    "    \n",
    "    negative = df[df[labels].sum(axis=1) == 0]\n",
    "    positive = df[df[labels].sum(axis=1) > 0]\n",
    "\n",
    "    print(f'Negatives before undersampling {len(negative)}')\n",
    "\n",
    "    negative = resample(negative, \n",
    "                        replace=False,\n",
    "                        n_samples=int(len(positive)*(ratio / (1- ratio))),\n",
    "                        random_state=42)\n",
    "    \n",
    "    print(f'Negatives before undersampling {len(negative)}')\n",
    "    \n",
    "    return pd.concat([positive, negative])\n",
    "\n",
    "def main(args):\n",
    "    #Get the labels and read the original metadata\n",
    "    labels = ['Atelectasis',\n",
    "            'Cardiomegaly',\n",
    "            'Consolidation',\n",
    "            'Edema',\n",
    "            'Effusion',\n",
    "            'Emphysema',\n",
    "            'Fibrosis',\n",
    "            'Hernia',\n",
    "            'Infiltration',\n",
    "            'Mass',\n",
    "            'Nodule',\n",
    "            'Pleural_Thickening',\n",
    "            'Pneumonia',\n",
    "            'Pneumothorax']\n",
    "    metadata_dir = os.path.join('..', 'data','metadata')\n",
    "    metadata_file = os.path.join(metadata_dir, 'Data_Entry_2017_v2020.csv')\n",
    "    metadata = pd.read_csv(metadata_file, delimiter=',')\n",
    "\n",
    "    #Encode the labels with multi-label friendly encoding\n",
    "    for label in labels:\n",
    "        metadata[label] = metadata['Finding Labels'].apply(lambda x: 1 if label in x else 0)\n",
    "\n",
    "    metadata = metadata.drop(columns=['Finding Labels', 'Follow-up #','Patient Age', 'Patient Gender', 'View Position', 'OriginalImage[Width','Height]', 'OriginalImagePixelSpacing[x', 'y]'])\n",
    "\n",
    "    #Get the test train and val splits according to the patient ID so no patients end up split between groups\n",
    "    gss_test = GroupShuffleSplit(test_size=0.2, n_splits=1, random_state=42)\n",
    "    train_val_idx, test_idx = next(gss_test.split(metadata, groups=metadata['Patient ID']))\n",
    "\n",
    "    train_val_metadata = metadata.iloc[train_val_idx]\n",
    "    test_metadata = metadata.iloc[test_idx]\n",
    "\n",
    "    gss_train_val = GroupShuffleSplit(test_size=0.125, n_splits=1, random_state=42)\n",
    "    train_idx, val_idx = next(gss_train_val.split(train_val_metadata, groups=train_val_metadata['Patient ID']))\n",
    "\n",
    "    train_metadata = train_val_metadata.iloc[train_idx]\n",
    "    val_metadata = train_val_metadata.iloc[val_idx]\n",
    "\n",
    "\n",
    "    #Drop the column of patient ID\n",
    "    train_metadata = train_metadata.drop(columns=['Patient ID'])\n",
    "    val_metadata = val_metadata.drop(columns=['Patient ID'])\n",
    "    test_metadata = test_metadata.drop(columns=['Patient ID'])\n",
    "\n",
    "\n",
    "    #Undersample \"No Findings\"\n",
    "    print(f'Applying a ratio of undersample of: {args}')\n",
    "    train_metadata = undersample_negatives(train_metadata,labels,args)\n",
    "    val_metadata = undersample_negatives(val_metadata,labels,args)\n",
    "    test_metadata = undersample_negatives(test_metadata,labels,args)\n",
    "\n",
    "\n",
    "    #Write all the new metadata as csv to load easier\n",
    "    train_metadata_file = os.path.join(metadata_dir,'train_metadata.csv')\n",
    "    train_metadata.to_csv(train_metadata_file, index=False)\n",
    "    val_metadata_file = os.path.join(metadata_dir, 'val_metadata.csv')\n",
    "    val_metadata.to_csv(val_metadata_file, index=False)\n",
    "    test_metadata_file = os.path.join(metadata_dir,'test_metadata.csv')\n",
    "    test_metadata.to_csv(test_metadata_file, index=False)\n",
    "\n",
    "if __name__ == \"__main__\":\n",
    "    parser = argparse.ArgumentParser(description=\"Preprocessing to the NIH dataset metadata for the model\")\n",
    "    parser.add_argument('--ratio', type=float, default=0.3, help='Ratio of positive to negative samples for undersampling (default: 0.3)')\n",
    "    args = parser.parse_args()\n",
    "\n",
    "    main(args.ratio)"
   ]
  }
 ],
 "metadata": {
  "kernelspec": {
   "display_name": "tfm_env",
   "language": "python",
   "name": "python3"
  },
  "language_info": {
   "codemirror_mode": {
    "name": "ipython",
    "version": 3
   },
   "file_extension": ".py",
   "mimetype": "text/x-python",
   "name": "python",
   "nbconvert_exporter": "python",
   "pygments_lexer": "ipython3",
   "version": "3.8.18"
  },
  "orig_nbformat": 4
 },
 "nbformat": 4,
 "nbformat_minor": 2
}
