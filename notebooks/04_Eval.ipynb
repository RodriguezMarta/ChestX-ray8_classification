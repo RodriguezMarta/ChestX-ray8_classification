{
 "cells": [
  {
   "cell_type": "code",
   "execution_count": 1,
   "metadata": {},
   "outputs": [],
   "source": [
    "import pandas as pd\n",
    "import sys\n",
    "from sklearn.model_selection import train_test_split\n",
    "import time\n",
    "import torch.optim as optim\n",
    "import torch.nn as nn\n",
    "import numpy as np\n",
    "import os\n",
    "import matplotlib.pyplot as plt\n",
    "from pathlib import Path\n",
    "import torch\n",
    "import torchvision.transforms as transforms\n",
    "from torchvision import models\n",
    "from torch.utils.data import DataLoader,Dataset\n",
    "from tqdm.notebook import tqdm # Progession bar\n",
    "from PIL import Image\n",
    "import torchvision.models as models\n",
    "from torchvision.models import ResNet50_Weights\n",
    "from sklearn.metrics import normalized_mutual_info_score\n",
    "from sklearn.cluster import AgglomerativeClustering"
   ]
  },
  {
   "cell_type": "code",
   "execution_count": 2,
   "metadata": {},
   "outputs": [],
   "source": [
    "\n",
    "src_path = os.path.abspath('../src')\n",
    "if src_path not in sys.path:\n",
    "    sys.path.append(src_path)\n",
    "\n",
    "data_dir = os.path.join('..', 'data')\n",
    "metadata_dir = os.path.join(data_dir, 'metadata')\n",
    "test_csv = os.path.join(metadata_dir, 'test_metadata.csv')\n",
    "train_csv = os.path.join(metadata_dir, 'train_metadata.csv')\n",
    "val_csv = os.path.join(metadata_dir, 'val_metadata.csv')\n",
    "\n",
    "images_dir = os.path.join(data_dir,'images')\n",
    "processed_dir = os.path.join(data_dir,'processed')\n",
    "model_dir = os.path.join('..','models','jule')"
   ]
  },
  {
   "cell_type": "code",
   "execution_count": 5,
   "metadata": {},
   "outputs": [],
   "source": [
    "def make_data_loaders_unsupervised(train_csv, val_csv, test_csv,processed_dir, images_dir, batch_size, image_size):\n",
    "    from torch.utils.data import DataLoader, Dataset\n",
    "    from PIL import Image\n",
    "\n",
    "    class ImageDataset(Dataset):\n",
    "        def __init__(self, csv_file, root_dir, transform=None):\n",
    "            self.data = pd.read_csv(csv_file)\n",
    "            self.root_dir = root_dir\n",
    "            self.transform = transform\n",
    "\n",
    "        def __len__(self):\n",
    "            return len(self.data)\n",
    "\n",
    "        def __getitem__(self, idx):\n",
    "            img_name = os.path.join(self.root_dir, self.data.iloc[idx, 0])\n",
    "            image = Image.open(img_name).convert('RGB')\n",
    "\n",
    "            # Obtener las etiquetas (asumiendo que empiezan desde el segundo índice)\n",
    "            labels = self.data.iloc[idx, 1:].values.astype(np.float32)\n",
    "\n",
    "            if self.transform:\n",
    "                image = self.transform(image)\n",
    "\n",
    "            return image, labels\n",
    "\n",
    "    transform = transforms.Compose([\n",
    "        transforms.Resize((image_size, image_size)),\n",
    "        transforms.ToTensor(),\n",
    "        transforms.Normalize(mean=[0.485, 0.456, 0.406], std=[0.229, 0.224, 0.225])\n",
    "    ])\n",
    "\n",
    "    train_dataset = ImageDataset(train_csv, processed_dir, transform)\n",
    "    val_dataset = ImageDataset(val_csv, images_dir, transform)\n",
    "    test_dataset = ImageDataset(test_csv, images_dir, transform)\n",
    "\n",
    "    dataloaders = {\n",
    "        'train': DataLoader(train_dataset, batch_size=batch_size, shuffle=True),\n",
    "        'val': DataLoader(val_dataset, batch_size=batch_size, shuffle=False),\n",
    "        'test': DataLoader(test_dataset, batch_size=batch_size, shuffle=False)\n",
    "    }\n",
    "    return dataloaders\n"
   ]
  },
  {
   "cell_type": "code",
   "execution_count": 9,
   "metadata": {},
   "outputs": [],
   "source": [
    "dataloaders = make_data_loaders_unsupervised(train_csv,val_csv,test_csv,processed_dir,images_dir,33,224)\n",
    "device = torch.device(\"cuda\" if torch.cuda.is_available() else \"cpu\")\n",
    "\n"
   ]
  },
  {
   "cell_type": "code",
   "execution_count": 7,
   "metadata": {},
   "outputs": [],
   "source": [
    "def perform_clustering(embeddings, n_clusters=14):\n",
    "    clustering_model = AgglomerativeClustering(n_clusters=n_clusters, affinity='euclidean', linkage='ward')\n",
    "    cluster_labels = clustering_model.fit_predict(embeddings)\n",
    "    return cluster_labels\n",
    "\n",
    "class ResNet50Encoder(nn.Module):\n",
    "    def __init__(self, embedding_dim=128):\n",
    "        super(ResNet50Encoder, self).__init__()\n",
    "        resnet = models.resnet50(weights=ResNet50_Weights.IMAGENET1K_V1)\n",
    "        self.features = nn.Sequential(*list(resnet.children())[:-1]) \n",
    "        self.fc = nn.Linear(resnet.fc.in_features, embedding_dim)  \n",
    "        self.normalize = nn.functional.normalize  \n",
    "\n",
    "    def forward(self, x):\n",
    "        x = self.features(x)\n",
    "        x = torch.flatten(x, 1)\n",
    "        x = self.fc(x)\n",
    "        return self.normalize(x, p=2, dim=1)"
   ]
  },
  {
   "cell_type": "code",
   "execution_count": 8,
   "metadata": {},
   "outputs": [
    {
     "ename": "NameError",
     "evalue": "name 'dataloaders' is not defined",
     "output_type": "error",
     "traceback": [
      "\u001b[1;31m---------------------------------------------------------------------------\u001b[0m",
      "\u001b[1;31mNameError\u001b[0m                                 Traceback (most recent call last)",
      "Cell \u001b[1;32mIn[8], line 36\u001b[0m\n\u001b[0;32m     34\u001b[0m \u001b[39m# Cargar el modelo y calcular NMI en el conjunto de test\u001b[39;00m\n\u001b[0;32m     35\u001b[0m model_path \u001b[39m=\u001b[39m \u001b[39m\"\u001b[39m\u001b[39mmodel_jule_epoch_4.pth\u001b[39m\u001b[39m\"\u001b[39m\n\u001b[1;32m---> 36\u001b[0m test_dataloader \u001b[39m=\u001b[39m dataloaders[\u001b[39m'\u001b[39m\u001b[39mtest\u001b[39m\u001b[39m'\u001b[39m]\n\u001b[0;32m     37\u001b[0m nmi_score \u001b[39m=\u001b[39m calculate_nmi(model_path, test_dataloader, model, device, n_clusters\u001b[39m=\u001b[39m\u001b[39m18\u001b[39m)\n",
      "\u001b[1;31mNameError\u001b[0m: name 'dataloaders' is not defined"
     ]
    }
   ],
   "source": [
    "def load_model_and_generate_embeddings(model_path, dataloader, model, device):\n",
    "    # Load model weights\n",
    "    model.load_state_dict(torch.load(model_path))\n",
    "    model.eval()\n",
    "    \n",
    "    all_embeddings = []\n",
    "    all_labels = []\n",
    "    \n",
    "    with torch.no_grad():\n",
    "        for imgs, labels in dataloader:\n",
    "            imgs = imgs.to(device)\n",
    "            embeddings = model(imgs)\n",
    "            all_embeddings.append(embeddings.cpu().numpy())\n",
    "            all_labels.append(labels.cpu().numpy())\n",
    "    \n",
    "    all_embeddings = np.vstack(all_embeddings)\n",
    "    all_labels = np.hstack(all_labels)\n",
    "    return all_embeddings, all_labels\n",
    "\n",
    "\n",
    "def calculate_nmi(model_path, dataloader, model, device, n_clusters=14):\n",
    "    # Step 1: Generate embeddings\n",
    "    embeddings, true_labels = load_model_and_generate_embeddings(model_path, dataloader, model, device)\n",
    "    \n",
    "    # Step 2: Perform clustering on embeddings\n",
    "    cluster_labels = perform_clustering(embeddings, n_clusters=n_clusters)\n",
    "    \n",
    "    # Step 3: Compute NMI\n",
    "    nmi_score = normalized_mutual_info_score(true_labels, cluster_labels)\n",
    "    print(f\"NMI Score: {nmi_score:.4f}\")\n",
    "    return nmi_score\n",
    "\n",
    "\n",
    "\n",
    "\n"
   ]
  },
  {
   "cell_type": "code",
   "execution_count": 11,
   "metadata": {},
   "outputs": [
    {
     "name": "stderr",
     "output_type": "stream",
     "text": [
      "C:\\Users\\MEDHYCON\\AppData\\Local\\Temp\\ipykernel_7924\\3442251958.py:5: FutureWarning: You are using `torch.load` with `weights_only=False` (the current default value), which uses the default pickle module implicitly. It is possible to construct malicious pickle data which will execute arbitrary code during unpickling (See https://github.com/pytorch/pytorch/blob/main/SECURITY.md#untrusted-models for more details). In a future release, the default value for `weights_only` will be flipped to `True`. This limits the functions that could be executed during unpickling. Arbitrary objects will no longer be allowed to be loaded via this mode unless they are explicitly allowlisted by the user via `torch.serialization.add_safe_globals`. We recommend you start setting `weights_only=True` for any use case where you don't have full control of the loaded file. Please open an issue on GitHub for any issues related to this experimental feature.\n",
      "  model.load_state_dict(torch.load(\"model_epoch_4.pth\"))\n"
     ]
    },
    {
     "ename": "RuntimeError",
     "evalue": "Attempting to deserialize object on a CUDA device but torch.cuda.is_available() is False. If you are running on a CPU-only machine, please use torch.load with map_location=torch.device('cpu') to map your storages to the CPU.",
     "output_type": "error",
     "traceback": [
      "\u001b[1;31m---------------------------------------------------------------------------\u001b[0m",
      "\u001b[1;31mRuntimeError\u001b[0m                              Traceback (most recent call last)",
      "Cell \u001b[1;32mIn[11], line 5\u001b[0m\n\u001b[0;32m      2\u001b[0m model \u001b[39m=\u001b[39m ResNet50Encoder()\u001b[39m.\u001b[39mto(device)\n\u001b[0;32m      4\u001b[0m \u001b[39m# Cargar el modelo entrenado desde el archivo .pth\u001b[39;00m\n\u001b[1;32m----> 5\u001b[0m model\u001b[39m.\u001b[39mload_state_dict(torch\u001b[39m.\u001b[39;49mload(\u001b[39m\"\u001b[39;49m\u001b[39mmodel_epoch_4.pth\u001b[39;49m\u001b[39m\"\u001b[39;49m))\n\u001b[0;32m      6\u001b[0m \u001b[39m# Establecer el modelo en modo evaluación (importante para evitar dropout y batchnorm)\u001b[39;00m\n\u001b[0;32m      7\u001b[0m model\u001b[39m.\u001b[39meval()\n",
      "File \u001b[1;32mc:\\Users\\MEDHYCON\\anaconda3\\envs\\models_env\\lib\\site-packages\\torch\\serialization.py:1360\u001b[0m, in \u001b[0;36mload\u001b[1;34m(f, map_location, pickle_module, weights_only, mmap, **pickle_load_args)\u001b[0m\n\u001b[0;32m   1358\u001b[0m             \u001b[39mexcept\u001b[39;00m pickle\u001b[39m.\u001b[39mUnpicklingError \u001b[39mas\u001b[39;00m e:\n\u001b[0;32m   1359\u001b[0m                 \u001b[39mraise\u001b[39;00m pickle\u001b[39m.\u001b[39mUnpicklingError(_get_wo_message(\u001b[39mstr\u001b[39m(e))) \u001b[39mfrom\u001b[39;00m\u001b[39m \u001b[39m\u001b[39mNone\u001b[39;00m\n\u001b[1;32m-> 1360\u001b[0m         \u001b[39mreturn\u001b[39;00m _load(\n\u001b[0;32m   1361\u001b[0m             opened_zipfile,\n\u001b[0;32m   1362\u001b[0m             map_location,\n\u001b[0;32m   1363\u001b[0m             pickle_module,\n\u001b[0;32m   1364\u001b[0m             overall_storage\u001b[39m=\u001b[39moverall_storage,\n\u001b[0;32m   1365\u001b[0m             \u001b[39m*\u001b[39m\u001b[39m*\u001b[39mpickle_load_args,\n\u001b[0;32m   1366\u001b[0m         )\n\u001b[0;32m   1367\u001b[0m \u001b[39mif\u001b[39;00m mmap:\n\u001b[0;32m   1368\u001b[0m     f_name \u001b[39m=\u001b[39m \u001b[39m\"\u001b[39m\u001b[39m\"\u001b[39m \u001b[39mif\u001b[39;00m \u001b[39mnot\u001b[39;00m \u001b[39misinstance\u001b[39m(f, \u001b[39mstr\u001b[39m) \u001b[39melse\u001b[39;00m \u001b[39mf\u001b[39m\u001b[39m\"\u001b[39m\u001b[39m{\u001b[39;00mf\u001b[39m}\u001b[39;00m\u001b[39m, \u001b[39m\u001b[39m\"\u001b[39m\n",
      "File \u001b[1;32mc:\\Users\\MEDHYCON\\anaconda3\\envs\\models_env\\lib\\site-packages\\torch\\serialization.py:1848\u001b[0m, in \u001b[0;36m_load\u001b[1;34m(zip_file, map_location, pickle_module, pickle_file, overall_storage, **pickle_load_args)\u001b[0m\n\u001b[0;32m   1846\u001b[0m \u001b[39mglobal\u001b[39;00m _serialization_tls\n\u001b[0;32m   1847\u001b[0m _serialization_tls\u001b[39m.\u001b[39mmap_location \u001b[39m=\u001b[39m map_location\n\u001b[1;32m-> 1848\u001b[0m result \u001b[39m=\u001b[39m unpickler\u001b[39m.\u001b[39;49mload()\n\u001b[0;32m   1849\u001b[0m _serialization_tls\u001b[39m.\u001b[39mmap_location \u001b[39m=\u001b[39m \u001b[39mNone\u001b[39;00m\n\u001b[0;32m   1851\u001b[0m torch\u001b[39m.\u001b[39m_utils\u001b[39m.\u001b[39m_validate_loaded_sparse_tensors()\n",
      "File \u001b[1;32mc:\\Users\\MEDHYCON\\anaconda3\\envs\\models_env\\lib\\site-packages\\torch\\serialization.py:1812\u001b[0m, in \u001b[0;36m_load.<locals>.persistent_load\u001b[1;34m(saved_id)\u001b[0m\n\u001b[0;32m   1810\u001b[0m \u001b[39melse\u001b[39;00m:\n\u001b[0;32m   1811\u001b[0m     nbytes \u001b[39m=\u001b[39m numel \u001b[39m*\u001b[39m torch\u001b[39m.\u001b[39m_utils\u001b[39m.\u001b[39m_element_size(dtype)\n\u001b[1;32m-> 1812\u001b[0m     typed_storage \u001b[39m=\u001b[39m load_tensor(\n\u001b[0;32m   1813\u001b[0m         dtype, nbytes, key, _maybe_decode_ascii(location)\n\u001b[0;32m   1814\u001b[0m     )\n\u001b[0;32m   1816\u001b[0m \u001b[39mreturn\u001b[39;00m typed_storage\n",
      "File \u001b[1;32mc:\\Users\\MEDHYCON\\anaconda3\\envs\\models_env\\lib\\site-packages\\torch\\serialization.py:1784\u001b[0m, in \u001b[0;36m_load.<locals>.load_tensor\u001b[1;34m(dtype, numel, key, location)\u001b[0m\n\u001b[0;32m   1779\u001b[0m         storage\u001b[39m.\u001b[39mbyteswap(dtype)\n\u001b[0;32m   1781\u001b[0m \u001b[39m# TODO: Once we decide to break serialization FC, we can\u001b[39;00m\n\u001b[0;32m   1782\u001b[0m \u001b[39m# stop wrapping with TypedStorage\u001b[39;00m\n\u001b[0;32m   1783\u001b[0m typed_storage \u001b[39m=\u001b[39m torch\u001b[39m.\u001b[39mstorage\u001b[39m.\u001b[39mTypedStorage(\n\u001b[1;32m-> 1784\u001b[0m     wrap_storage\u001b[39m=\u001b[39mrestore_location(storage, location),\n\u001b[0;32m   1785\u001b[0m     dtype\u001b[39m=\u001b[39mdtype,\n\u001b[0;32m   1786\u001b[0m     _internal\u001b[39m=\u001b[39m\u001b[39mTrue\u001b[39;00m,\n\u001b[0;32m   1787\u001b[0m )\n\u001b[0;32m   1789\u001b[0m \u001b[39mif\u001b[39;00m typed_storage\u001b[39m.\u001b[39m_data_ptr() \u001b[39m!=\u001b[39m \u001b[39m0\u001b[39m:\n\u001b[0;32m   1790\u001b[0m     loaded_storages[key] \u001b[39m=\u001b[39m typed_storage\n",
      "File \u001b[1;32mc:\\Users\\MEDHYCON\\anaconda3\\envs\\models_env\\lib\\site-packages\\torch\\serialization.py:601\u001b[0m, in \u001b[0;36mdefault_restore_location\u001b[1;34m(storage, location)\u001b[0m\n\u001b[0;32m    581\u001b[0m \u001b[39m\u001b[39m\u001b[39m\"\"\"\u001b[39;00m\n\u001b[0;32m    582\u001b[0m \u001b[39mRestores `storage` using a deserializer function registered for the `location`.\u001b[39;00m\n\u001b[0;32m    583\u001b[0m \n\u001b[1;32m   (...)\u001b[0m\n\u001b[0;32m    598\u001b[0m \u001b[39m       all matching ones return `None`.\u001b[39;00m\n\u001b[0;32m    599\u001b[0m \u001b[39m\"\"\"\u001b[39;00m\n\u001b[0;32m    600\u001b[0m \u001b[39mfor\u001b[39;00m _, _, fn \u001b[39min\u001b[39;00m _package_registry:\n\u001b[1;32m--> 601\u001b[0m     result \u001b[39m=\u001b[39m fn(storage, location)\n\u001b[0;32m    602\u001b[0m     \u001b[39mif\u001b[39;00m result \u001b[39mis\u001b[39;00m \u001b[39mnot\u001b[39;00m \u001b[39mNone\u001b[39;00m:\n\u001b[0;32m    603\u001b[0m         \u001b[39mreturn\u001b[39;00m result\n",
      "File \u001b[1;32mc:\\Users\\MEDHYCON\\anaconda3\\envs\\models_env\\lib\\site-packages\\torch\\serialization.py:539\u001b[0m, in \u001b[0;36m_deserialize\u001b[1;34m(backend_name, obj, location)\u001b[0m\n\u001b[0;32m    537\u001b[0m     backend_name \u001b[39m=\u001b[39m torch\u001b[39m.\u001b[39m_C\u001b[39m.\u001b[39m_get_privateuse1_backend_name()\n\u001b[0;32m    538\u001b[0m \u001b[39mif\u001b[39;00m location\u001b[39m.\u001b[39mstartswith(backend_name):\n\u001b[1;32m--> 539\u001b[0m     device \u001b[39m=\u001b[39m _validate_device(location, backend_name)\n\u001b[0;32m    540\u001b[0m     \u001b[39mreturn\u001b[39;00m obj\u001b[39m.\u001b[39mto(device\u001b[39m=\u001b[39mdevice)\n",
      "File \u001b[1;32mc:\\Users\\MEDHYCON\\anaconda3\\envs\\models_env\\lib\\site-packages\\torch\\serialization.py:508\u001b[0m, in \u001b[0;36m_validate_device\u001b[1;34m(location, backend_name)\u001b[0m\n\u001b[0;32m    506\u001b[0m     device_index \u001b[39m=\u001b[39m device\u001b[39m.\u001b[39mindex \u001b[39mif\u001b[39;00m device\u001b[39m.\u001b[39mindex \u001b[39melse\u001b[39;00m \u001b[39m0\u001b[39m\n\u001b[0;32m    507\u001b[0m \u001b[39mif\u001b[39;00m \u001b[39mhasattr\u001b[39m(device_module, \u001b[39m\"\u001b[39m\u001b[39mis_available\u001b[39m\u001b[39m\"\u001b[39m) \u001b[39mand\u001b[39;00m \u001b[39mnot\u001b[39;00m device_module\u001b[39m.\u001b[39mis_available():\n\u001b[1;32m--> 508\u001b[0m     \u001b[39mraise\u001b[39;00m \u001b[39mRuntimeError\u001b[39;00m(\n\u001b[0;32m    509\u001b[0m         \u001b[39mf\u001b[39m\u001b[39m\"\u001b[39m\u001b[39mAttempting to deserialize object on a \u001b[39m\u001b[39m{\u001b[39;00mbackend_name\u001b[39m.\u001b[39mupper()\u001b[39m}\u001b[39;00m\u001b[39m \u001b[39m\u001b[39m\"\u001b[39m\n\u001b[0;32m    510\u001b[0m         \u001b[39mf\u001b[39m\u001b[39m\"\u001b[39m\u001b[39mdevice but torch.\u001b[39m\u001b[39m{\u001b[39;00mbackend_name\u001b[39m}\u001b[39;00m\u001b[39m.is_available() is False. \u001b[39m\u001b[39m\"\u001b[39m\n\u001b[0;32m    511\u001b[0m         \u001b[39m\"\u001b[39m\u001b[39mIf you are running on a CPU-only machine, \u001b[39m\u001b[39m\"\u001b[39m\n\u001b[0;32m    512\u001b[0m         \u001b[39m\"\u001b[39m\u001b[39mplease use torch.load with map_location=torch.device(\u001b[39m\u001b[39m'\u001b[39m\u001b[39mcpu\u001b[39m\u001b[39m'\u001b[39m\u001b[39m) \u001b[39m\u001b[39m\"\u001b[39m\n\u001b[0;32m    513\u001b[0m         \u001b[39m\"\u001b[39m\u001b[39mto map your storages to the CPU.\u001b[39m\u001b[39m\"\u001b[39m\n\u001b[0;32m    514\u001b[0m     )\n\u001b[0;32m    515\u001b[0m \u001b[39mif\u001b[39;00m \u001b[39mhasattr\u001b[39m(device_module, \u001b[39m\"\u001b[39m\u001b[39mdevice_count\u001b[39m\u001b[39m\"\u001b[39m):\n\u001b[0;32m    516\u001b[0m     device_count \u001b[39m=\u001b[39m device_module\u001b[39m.\u001b[39mdevice_count()\n",
      "\u001b[1;31mRuntimeError\u001b[0m: Attempting to deserialize object on a CUDA device but torch.cuda.is_available() is False. If you are running on a CPU-only machine, please use torch.load with map_location=torch.device('cpu') to map your storages to the CPU."
     ]
    }
   ],
   "source": [
    "# Cargar el modelo y calcular NMI en el conjunto de test\n",
    "model = ResNet50Encoder().to(device)\n",
    "\n",
    "# Cargar el modelo entrenado desde el archivo .pth\n",
    "model.load_state_dict(torch.load(\"model_epoch_4.pth\"))\n",
    "# Establecer el modelo en modo evaluación (importante para evitar dropout y batchnorm)\n",
    "model.eval()\n",
    "# model_path = \"model_jule_epoch_4.pth\"\n",
    "# test_dataloader = dataloaders['test']\n",
    "# nmi_score = calculate_nmi(model_path, test_dataloader, model, device, n_clusters=18)"
   ]
  }
 ],
 "metadata": {
  "kernelspec": {
   "display_name": "models_env",
   "language": "python",
   "name": "python3"
  },
  "language_info": {
   "codemirror_mode": {
    "name": "ipython",
    "version": 3
   },
   "file_extension": ".py",
   "mimetype": "text/x-python",
   "name": "python",
   "nbconvert_exporter": "python",
   "pygments_lexer": "ipython3",
   "version": "3.9.21"
  },
  "orig_nbformat": 4
 },
 "nbformat": 4,
 "nbformat_minor": 2
}
