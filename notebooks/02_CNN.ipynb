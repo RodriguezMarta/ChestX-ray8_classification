{
 "cells": [
  {
   "cell_type": "code",
   "execution_count": 5,
   "metadata": {},
   "outputs": [],
   "source": [
    "import torch\n",
    "import time\n"
   ]
  },
  {
   "cell_type": "code",
   "execution_count": 14,
   "metadata": {},
   "outputs": [
    {
     "ename": "ModuleNotFoundError",
     "evalue": "No module named 'src.data_loader'",
     "output_type": "error",
     "traceback": [
      "\u001b[1;31m---------------------------------------------------------------------------\u001b[0m",
      "\u001b[1;31mModuleNotFoundError\u001b[0m                       Traceback (most recent call last)",
      "Cell \u001b[1;32mIn[14], line 4\u001b[0m\n\u001b[0;32m      2\u001b[0m sys\u001b[39m.\u001b[39mpath\u001b[39m.\u001b[39mappend(\u001b[39m'\u001b[39m\u001b[39m../src\u001b[39m\u001b[39m'\u001b[39m) \n\u001b[0;32m      3\u001b[0m \u001b[39m#from src.models.cnn import get_resnet50\u001b[39;00m\n\u001b[1;32m----> 4\u001b[0m \u001b[39mfrom\u001b[39;00m \u001b[39msrc\u001b[39;00m\u001b[39m.\u001b[39;00m\u001b[39mdata_loader\u001b[39;00m \u001b[39mimport\u001b[39;00m ChestXray8Dataset\n",
      "\u001b[1;31mModuleNotFoundError\u001b[0m: No module named 'src.data_loader'"
     ]
    }
   ],
   "source": [
    "import sys\n",
    "sys.path.append('../src') \n",
    "#from src.models.cnn import get_resnet50\n",
    "from src.data_loader import ChestXray8Dataset"
   ]
  },
  {
   "cell_type": "code",
   "execution_count": null,
   "metadata": {},
   "outputs": [],
   "source": [
    "csv_file = \"data/metadata/Data_Entry_2017.csv\"\n",
    "img_dir = \"data/images/\"\n",
    "train_list = \"data/metadata/train_val_list.txt\"\n",
    "test_list = \"data/metadata/test_list.txt\"\n",
    "output_model_path = \"models/chestxray_cnn_supervised.pth\"\n",
    "num_epochs = 10\n",
    "batch_size = 32\n",
    "learning_rate = 0.001"
   ]
  },
  {
   "cell_type": "code",
   "execution_count": null,
   "metadata": {},
   "outputs": [],
   "source": [
    "start_time = time.time()\n",
    "# Configuración del modelo\n",
    "model = get_resnet50(num_classes=14)\n",
    "model = train_model(csv_file, img_dir, train_list, test_list, model, num_epochs, batch_size, learning_rate)\n",
    "end_time = time.time()\n",
    "training_time = end_time - start_time\n",
    "\n",
    "# 4. Mostrar el tiempo de entrenamiento\n",
    "print(f\"Tiempo de entrenamiento: {training_time:.2f} segundos\")\n",
    "\n",
    "# 5. Cargar el modelo entrenado para ver su rendimiento\n",
    "model = get_resnet50(num_classes=14)\n",
    "model.load_state_dict(torch.load(output_model_path))\n",
    "model.eval()\n",
    "\n",
    "# 6. Evaluación del modelo (esto dependería de tener un conjunto de test/val)\n",
    "# Por ejemplo, podemos pasar un batch de validación y calcular las métricas\n",
    "\n",
    "# Evaluar el modelo en el conjunto de validación (esto debería implementarse más adelante)\n",
    "\n",
    "# 7. Visualizar las métricas de pérdida y precisión (se podría hacer con gráficas)\n"
   ]
  }
 ],
 "metadata": {
  "kernelspec": {
   "display_name": "tfm_env",
   "language": "python",
   "name": "python3"
  },
  "language_info": {
   "codemirror_mode": {
    "name": "ipython",
    "version": 3
   },
   "file_extension": ".py",
   "mimetype": "text/x-python",
   "name": "python",
   "nbconvert_exporter": "python",
   "pygments_lexer": "ipython3",
   "version": "3.8.18"
  },
  "orig_nbformat": 4
 },
 "nbformat": 4,
 "nbformat_minor": 2
}
